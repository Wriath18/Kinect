{
 "cells": [
  {
   "cell_type": "code",
   "execution_count": 1,
   "metadata": {},
   "outputs": [],
   "source": [
    "import spacy\n",
    "import en_core_med7_trf\n",
    "import easyocr\n",
    "from PIL import Image\n",
    "import cv2\n",
    "import pandas as pd\n",
    "import csv\n",
    "import re\n",
    "import pyttsx3"
   ]
  },
  {
   "cell_type": "code",
   "execution_count": 2,
   "metadata": {},
   "outputs": [
    {
     "ename": "SyntaxError",
     "evalue": "invalid syntax (3417557009.py, line 3)",
     "output_type": "error",
     "traceback": [
      "\u001b[1;36m  Cell \u001b[1;32mIn[2], line 3\u001b[1;36m\u001b[0m\n\u001b[1;33m    image_path = #here will be fetch function\u001b[0m\n\u001b[1;37m                 ^\u001b[0m\n\u001b[1;31mSyntaxError\u001b[0m\u001b[1;31m:\u001b[0m invalid syntax\n"
     ]
    }
   ],
   "source": [
    "def detection():\n",
    "    reader = easyocr.Reader(['en'])\n",
    "    image_path = #here will be fetch function\n",
    "    final_image = image_processing(image_path=image_path)\n",
    "    result = reader.readtext(final_image)\n",
    "    txt = []\n",
    "    for detection in result:\n",
    "        # print(detection[1])\n",
    "        txt.append(detection[1])\n",
    "\n",
    "    return \" \".join(txt)\n",
    "\n",
    "\n",
    "def image_processing(image_path):\n",
    "    img = cv2.imread(image_path)\n",
    "    reizised_img = img[200:1500, :]\n",
    "    return reizised_img"
   ]
  },
  {
   "cell_type": "code",
   "execution_count": 3,
   "metadata": {},
   "outputs": [
    {
     "ename": "NameError",
     "evalue": "name 'detection' is not defined",
     "output_type": "error",
     "traceback": [
      "\u001b[1;31m---------------------------------------------------------------------------\u001b[0m",
      "\u001b[1;31mNameError\u001b[0m                                 Traceback (most recent call last)",
      "Cell \u001b[1;32mIn[3], line 42\u001b[0m\n\u001b[0;32m     39\u001b[0m   \u001b[38;5;28;01melse\u001b[39;00m:\n\u001b[0;32m     40\u001b[0m     \u001b[38;5;28;01mreturn\u001b[39;00m \u001b[38;5;28;01mNone\u001b[39;00m  \u001b[38;5;66;03m# Return None if frequency not found\u001b[39;00m\n\u001b[1;32m---> 42\u001b[0m \u001b[43mmed7_model\u001b[49m\u001b[43m(\u001b[49m\u001b[43m)\u001b[49m\n",
      "Cell \u001b[1;32mIn[3], line 13\u001b[0m, in \u001b[0;36mmed7_model\u001b[1;34m()\u001b[0m\n\u001b[0;32m     10\u001b[0m options \u001b[38;5;241m=\u001b[39m {\u001b[38;5;124m'\u001b[39m\u001b[38;5;124ments\u001b[39m\u001b[38;5;124m'\u001b[39m: med7\u001b[38;5;241m.\u001b[39mpipe_labels[\u001b[38;5;124m'\u001b[39m\u001b[38;5;124mner\u001b[39m\u001b[38;5;124m'\u001b[39m], \u001b[38;5;124m'\u001b[39m\u001b[38;5;124mcolors\u001b[39m\u001b[38;5;124m'\u001b[39m: col_dict}\n\u001b[0;32m     12\u001b[0m \u001b[38;5;66;03m# Text containing medical concepts\u001b[39;00m\n\u001b[1;32m---> 13\u001b[0m text \u001b[38;5;241m=\u001b[39m \u001b[43mdetection\u001b[49m()  \u001b[38;5;66;03m# Replace with your detection function\u001b[39;00m\n\u001b[0;32m     15\u001b[0m doc \u001b[38;5;241m=\u001b[39m med7(text)\n\u001b[0;32m     17\u001b[0m drug_data \u001b[38;5;241m=\u001b[39m []\n",
      "\u001b[1;31mNameError\u001b[0m: name 'detection' is not defined"
     ]
    }
   ],
   "source": [
    "def med7_model():\n",
    "  global medication_names\n",
    "  medication_names = []\n",
    "  med7 = en_core_med7_trf.load()\n",
    "  col_dict = {}\n",
    "  seven_colours = ['#e6194B', '#3cb44b', '#ffe119', '#ffd8b1', '#f58231', '#f032e6', '#42d4f4']\n",
    "  for label, color in zip(med7.pipe_labels['ner'], seven_colours):\n",
    "    col_dict[label] = color\n",
    "\n",
    "  options = {'ents': med7.pipe_labels['ner'], 'colors': col_dict}\n",
    "\n",
    "  # Text containing medical concepts\n",
    "  text = detection()  # Replace with your detection function\n",
    "\n",
    "  doc = med7(text)\n",
    "\n",
    "  drug_data = []\n",
    "  for ent in doc.ents:\n",
    "    if ent.label_ == \"DRUG\":\n",
    "      medication_names.append(ent.text)\n",
    "      drug_data.append([ent.text, extract_frequency(ent.text, text)])  # Add frequency\n",
    "\n",
    "  # Write drug data to CSV file\n",
    "  with open(\"drug_info_.csv\", \"w\", newline=\"\") as csvfile:\n",
    "    writer = csv.writer(csvfile)\n",
    "    writer.writerow([\"Drug Name\", \"Frequency\"])\n",
    "    writer.writerows(drug_data)\n",
    "\n",
    "  spacy.displacy.render(doc, style='ent', jupyter=True, options=options)\n",
    "\n",
    "def extract_frequency(drug_name, text):\n",
    "  # Implement your logic to extract frequency from the text based on drug_name\n",
    "  # This example provides a basic placeholder, replace with your actual implementation\n",
    "  frequency_pattern = re.compile(f\"{re.escape(drug_name)} \\((.*?)\\)\")\n",
    "  # Example pattern for finding frequency near drug_name\n",
    "  match = re.search(frequency_pattern, text)\n",
    "  if match:\n",
    "    return match.group(1)  # Extract the matched frequency\n",
    "  else:\n",
    "    return None  # Return None if frequency not found\n",
    "\n",
    "\n",
    "\n"
   ]
  },
  {
   "cell_type": "code",
   "execution_count": null,
   "metadata": {},
   "outputs": [],
   "source": []
  }
 ],
 "metadata": {
  "kernelspec": {
   "display_name": "Python 3",
   "language": "python",
   "name": "python3"
  },
  "language_info": {
   "codemirror_mode": {
    "name": "ipython",
    "version": 3
   },
   "file_extension": ".py",
   "mimetype": "text/x-python",
   "name": "python",
   "nbconvert_exporter": "python",
   "pygments_lexer": "ipython3",
   "version": "3.10.11"
  }
 },
 "nbformat": 4,
 "nbformat_minor": 2
}
